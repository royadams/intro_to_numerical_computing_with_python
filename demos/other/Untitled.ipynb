{
 "cells": [
  {
   "cell_type": "code",
   "execution_count": 24,
   "metadata": {
    "collapsed": false
   },
   "outputs": [
    {
     "name": "stdout",
     "output_type": "stream",
     "text": [
      "[-4. -3.] [-4.0, -3.0]\n",
      "[ 2.         -0.33333333] [-0.33333333333333331, 2.0]\n",
      "[-0.625+0.78062475j -0.625-0.78062475j]\n",
      "[-4.8  0. ] [-4.7999999999999998, 0.0]\n",
      "[ True False]\n",
      "-0.3333333333333333\n"
     ]
    }
   ],
   "source": [
    "import numpy as np\n",
    "\n",
    "def quadratic_formula(a,b,c):\n",
    "    base = np.sqrt(b**2 - 4.0*a*c)\n",
    "    return sorted((-b + np.array([base,-base]))/(2*a))\n",
    "\n",
    "print(np.roots([1.0,7.0,12.0]), quadratic_formula(1.0,7.0,12.0))\n",
    "print(np.roots([-3.0,5.0,2.0]), quadratic_formula(-3.0,5.0,2.0))\n",
    "print(np.roots([4.0,5.0,4.0]))\n",
    "print(np.roots([1.5,7.2,0.0]), quadratic_formula(1.5,7.2,0.0))\n",
    "print(np.isclose(np.roots([1e-8,10.0,1e-8]), quadratic_formula(1e-8,10.0,1e-8),atol=1e-10))\n",
    "\n",
    "a,b = np.roots([-3.0,5.0,2.0])\n",
    "print(\"%.16g\"%b)"
   ]
  },
  {
   "cell_type": "code",
   "execution_count": 16,
   "metadata": {
    "collapsed": false
   },
   "outputs": [
    {
     "data": {
      "text/plain": [
       "[-4, -3]"
      ]
     },
     "execution_count": 16,
     "metadata": {},
     "output_type": "execute_result"
    }
   ],
   "source": [
    "sorted([-4,-3])"
   ]
  },
  {
   "cell_type": "code",
   "execution_count": null,
   "metadata": {
    "collapsed": true
   },
   "outputs": [],
   "source": []
  }
 ],
 "metadata": {
  "kernelspec": {
   "display_name": "Python 3",
   "language": "python",
   "name": "python3"
  },
  "language_info": {
   "codemirror_mode": {
    "name": "ipython",
    "version": 3
   },
   "file_extension": ".py",
   "mimetype": "text/x-python",
   "name": "python",
   "nbconvert_exporter": "python",
   "pygments_lexer": "ipython3",
   "version": "3.5.2"
  }
 },
 "nbformat": 4,
 "nbformat_minor": 0
}
