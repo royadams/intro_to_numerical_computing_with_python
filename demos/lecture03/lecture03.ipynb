{
 "cells": [
  {
   "cell_type": "markdown",
   "metadata": {},
   "source": [
    "# Scoping"
   ]
  },
  {
   "cell_type": "code",
   "execution_count": null,
   "metadata": {
    "collapsed": false
   },
   "outputs": [],
   "source": [
    "global_variable = \"this is a global\"\n",
    "\n",
    "def my_fun(x):\n",
    "    local_variable = \"this is a local\"\n",
    "    print(global_variable)\n",
    "    return\n",
    "\n",
    "my_fun(1)\n",
    "print(local_variable)"
   ]
  },
  {
   "cell_type": "markdown",
   "metadata": {},
   "source": [
    "# Importing Modules"
   ]
  },
  {
   "cell_type": "code",
   "execution_count": 2,
   "metadata": {
    "collapsed": false
   },
   "outputs": [
    {
     "name": "stdout",
     "output_type": "stream",
     "text": [
      "1.6094379124341003\n"
     ]
    }
   ],
   "source": [
    "import math\n",
    "print(math.log(5))"
   ]
  },
  {
   "cell_type": "code",
   "execution_count": 3,
   "metadata": {
    "collapsed": false
   },
   "outputs": [
    {
     "name": "stdout",
     "output_type": "stream",
     "text": [
      "1.6094379124341003\n"
     ]
    }
   ],
   "source": [
    "import math as m\n",
    "print(m.log(5))"
   ]
  },
  {
   "cell_type": "code",
   "execution_count": 5,
   "metadata": {
    "collapsed": false
   },
   "outputs": [
    {
     "name": "stdout",
     "output_type": "stream",
     "text": [
      "1.6094379124341003\n",
      "3.141592653589793\n"
     ]
    }
   ],
   "source": [
    "from math import log, exp , pi\n",
    "print(log(5))\n",
    "print(pi)"
   ]
  },
  {
   "cell_type": "markdown",
   "metadata": {},
   "source": [
    "# Classes"
   ]
  },
  {
   "cell_type": "code",
   "execution_count": 6,
   "metadata": {
    "collapsed": false
   },
   "outputs": [],
   "source": [
    "import random\n",
    "\n",
    "class Dog:\n",
    "        \n",
    "    def __init__(self,name):\n",
    "        self.name = name\n",
    "        self.tricks = []\n",
    "        \n",
    "    def bark(self):\n",
    "        print(\"%s barks!\"%self.name)\n",
    "        return self.name\n",
    "        \n",
    "    def teach_trick(self,trick):\n",
    "        self.tricks.append(trick)\n",
    "        \n",
    "    def do_trick(self):\n",
    "        if self.tricks == []:\n",
    "            print(\"%s doesn't know any tricks :(\"%self.name)\n",
    "        else:\n",
    "            trick_idx = random.randint(0,len(self.tricks)-1)\n",
    "            print(\"%s does trick: %s\"%(self.name,self.tricks[trick_idx]))"
   ]
  },
  {
   "cell_type": "code",
   "execution_count": 7,
   "metadata": {
    "collapsed": false
   },
   "outputs": [
    {
     "name": "stdout",
     "output_type": "stream",
     "text": [
      "Kevin barks!\n",
      "Rose barks!\n"
     ]
    }
   ],
   "source": [
    "from dog_file import Dog\n",
    "\n",
    "# Create two Dog instances\n",
    "dog1 = Dog(\"Kevin\")\n",
    "dog2 = Dog(\"Rose\")\n",
    "\n",
    "# Barking dogs\n",
    "dog1.bark()\n",
    "dog2.bark()"
   ]
  },
  {
   "cell_type": "code",
   "execution_count": 8,
   "metadata": {
    "collapsed": false
   },
   "outputs": [
    {
     "name": "stdout",
     "output_type": "stream",
     "text": [
      "Kevin doesn't know any tricks :(\n"
     ]
    }
   ],
   "source": [
    "# Try to get Kevin to do a trick\n",
    "dog1.do_trick()"
   ]
  },
  {
   "cell_type": "code",
   "execution_count": 9,
   "metadata": {
    "collapsed": false
   },
   "outputs": [
    {
     "name": "stdout",
     "output_type": "stream",
     "text": [
      "Kevin does trick: play dead\n",
      "Rose doesn't know any tricks :(\n"
     ]
    }
   ],
   "source": [
    "# Teach kevin some tricks\n",
    "dog1.teach_trick(\"roll over\")\n",
    "dog1.teach_trick(\"play dead\")\n",
    "\n",
    "# Try to get both dogs to do tricks\n",
    "dog1.do_trick()\n",
    "dog2.do_trick()"
   ]
  },
  {
   "cell_type": "markdown",
   "metadata": {},
   "source": [
    "# Functional Programming in Python"
   ]
  },
  {
   "cell_type": "code",
   "execution_count": null,
   "metadata": {
    "collapsed": false
   },
   "outputs": [],
   "source": [
    "list1 = list(range(10))\n",
    "\n",
    "# List Comprehension\n",
    "list2 = [2*i for i in list1]\n",
    "\n",
    "print(\"list1:\",list1)\n",
    "print(\"list2:\",list2)"
   ]
  },
  {
   "cell_type": "code",
   "execution_count": null,
   "metadata": {
    "collapsed": false
   },
   "outputs": [],
   "source": [
    "# Map\n",
    "def double(x): return 2*x\n",
    "\n",
    "list3 = list(map(double, list1))\n",
    "print(\"list3:\", list3)"
   ]
  },
  {
   "cell_type": "markdown",
   "metadata": {},
   "source": [
    "# Rounding"
   ]
  },
  {
   "cell_type": "markdown",
   "metadata": {},
   "source": [
    "### Underflow"
   ]
  },
  {
   "cell_type": "code",
   "execution_count": 10,
   "metadata": {
    "collapsed": false
   },
   "outputs": [
    {
     "name": "stdout",
     "output_type": "stream",
     "text": [
      "i = 1075\n",
      "a = 0.0\n"
     ]
    }
   ],
   "source": [
    "a = 1.0\n",
    "i = 0\n",
    "while a > 0.0:\n",
    "    a = a / 2.0\n",
    "    i += 1\n",
    "    \n",
    "print(\"i =\",i)\n",
    "print(\"a =\",a)"
   ]
  },
  {
   "cell_type": "markdown",
   "metadata": {},
   "source": [
    "### Overflow"
   ]
  },
  {
   "cell_type": "code",
   "execution_count": 11,
   "metadata": {
    "collapsed": false
   },
   "outputs": [
    {
     "name": "stdout",
     "output_type": "stream",
     "text": [
      "i = 1024\n",
      "a = inf\n"
     ]
    }
   ],
   "source": [
    "a = 1.0\n",
    "b = 0.5\n",
    "i = 0\n",
    "while b == a/2.0:\n",
    "    b = a\n",
    "    a = a * 2\n",
    "    i += 1\n",
    "    \n",
    "print(\"i =\",i)\n",
    "print(\"a =\",a)"
   ]
  },
  {
   "cell_type": "markdown",
   "metadata": {},
   "source": [
    "### Representability"
   ]
  },
  {
   "cell_type": "code",
   "execution_count": 12,
   "metadata": {
    "collapsed": false
   },
   "outputs": [
    {
     "name": "stdout",
     "output_type": "stream",
     "text": [
      "a = 0.10000000000000001\n",
      "a = 0.20000000000000001\n",
      "a = 0.30000000000000004\n",
      "a = 0.40000000000000002\n",
      "a = 0.5\n",
      "a = 0.59999999999999998\n",
      "a = 0.69999999999999996\n",
      "a = 0.79999999999999993\n",
      "a = 0.89999999999999991\n",
      "a = 0.99999999999999989\n",
      "a = 1.0999999999999999\n",
      "a = 1.2\n",
      "a = 1.3\n",
      "a = 1.4000000000000001\n",
      "a = 1.5000000000000002\n",
      "a = 1.6000000000000003\n",
      "a = 1.7000000000000004\n",
      "a = 1.8000000000000005\n",
      "a = 1.9000000000000006\n",
      "a = 2.0000000000000004\n",
      "a = 2.1000000000000005\n",
      "a = 2.2000000000000006\n",
      "a = 2.3000000000000007\n",
      "a = 2.4000000000000008\n",
      "a = 2.5000000000000009\n",
      "a = 2.600000000000001\n",
      "a = 2.7000000000000011\n",
      "a = 2.8000000000000012\n",
      "a = 2.9000000000000012\n",
      "a = 3.0000000000000013\n",
      "a = 3.1000000000000014\n",
      "a = 3.2000000000000015\n",
      "a = 3.3000000000000016\n",
      "a = 3.4000000000000017\n",
      "a = 3.5000000000000018\n",
      "a = 3.6000000000000019\n",
      "a = 3.700000000000002\n",
      "a = 3.800000000000002\n",
      "a = 3.9000000000000021\n",
      "a = 4.0000000000000018\n",
      "a = 4.1000000000000014\n",
      "a = 4.2000000000000011\n",
      "a = 4.3000000000000007\n",
      "a = 4.4000000000000004\n",
      "a = 4.5\n",
      "a = 4.5999999999999996\n",
      "a = 4.6999999999999993\n",
      "a = 4.7999999999999989\n",
      "a = 4.8999999999999986\n",
      "a = 4.9999999999999982\n",
      "a = 5.0999999999999979\n"
     ]
    }
   ],
   "source": [
    "a = 0.0\n",
    "while (a != 1.0) and (a < 5):\n",
    "    a += 0.1\n",
    "    print(\"a = %.17g\"%a)"
   ]
  },
  {
   "cell_type": "code",
   "execution_count": 13,
   "metadata": {
    "collapsed": false
   },
   "outputs": [
    {
     "name": "stdout",
     "output_type": "stream",
     "text": [
      "b = 0.10000000000000001\n",
      "b = 0.20000000000000001\n",
      "b = 0.30000000000000004\n",
      "b = 0.40000000000000002\n",
      "b = 0.5\n",
      "b = 0.60000000000000009\n",
      "b = 0.70000000000000007\n",
      "b = 0.80000000000000004\n",
      "b = 0.90000000000000002\n",
      "b = 1\n"
     ]
    }
   ],
   "source": [
    "for i in range(1,11):\n",
    "    b = i*0.1\n",
    "    print(\"b = %.17g\"%b)"
   ]
  },
  {
   "cell_type": "code",
   "execution_count": 14,
   "metadata": {
    "collapsed": false
   },
   "outputs": [
    {
     "name": "stdout",
     "output_type": "stream",
     "text": [
      "a == 1: False\n",
      "isclose(a,1): True\n"
     ]
    }
   ],
   "source": [
    "# tests whether the abolute difference between\n",
    "# two numbers, x and y, is less than some \n",
    "# tolerance, epsilon.\n",
    "def isclose(x,y,epsilon=10e-8):\n",
    "    return abs(x-y) < epsilon\n",
    "\n",
    "a = 0.0\n",
    "for i in range(10): a += 0.1\n",
    "    \n",
    "print(\"a == 1:\", a==1.0)\n",
    "print(\"isclose(a,1):\", isclose(a,1.0))"
   ]
  },
  {
   "cell_type": "code",
   "execution_count": null,
   "metadata": {
    "collapsed": true
   },
   "outputs": [],
   "source": []
  }
 ],
 "metadata": {
  "kernelspec": {
   "display_name": "Python 3",
   "language": "python",
   "name": "python3"
  },
  "language_info": {
   "codemirror_mode": {
    "name": "ipython",
    "version": 3
   },
   "file_extension": ".py",
   "mimetype": "text/x-python",
   "name": "python",
   "nbconvert_exporter": "python",
   "pygments_lexer": "ipython3",
   "version": "3.5.2"
  }
 },
 "nbformat": 4,
 "nbformat_minor": 0
}
