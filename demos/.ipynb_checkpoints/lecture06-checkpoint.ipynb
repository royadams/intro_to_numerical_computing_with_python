{
 "cells": [
  {
   "cell_type": "markdown",
   "metadata": {},
   "source": [
    "# Demo 1: Shape Manipulation and Broadcasting"
   ]
  },
  {
   "cell_type": "markdown",
   "metadata": {},
   "source": [
    "### Shape Manipulation"
   ]
  },
  {
   "cell_type": "code",
   "execution_count": 2,
   "metadata": {
    "collapsed": false
   },
   "outputs": [
    {
     "name": "stdout",
     "output_type": "stream",
     "text": [
      "A =\n",
      " [0 1 2 3 4 5 6 7 8]\n"
     ]
    }
   ],
   "source": [
    "import numpy as np\n",
    "A = np.arange(9)\n",
    "print(\"A =\\n\",A)"
   ]
  },
  {
   "cell_type": "code",
   "execution_count": null,
   "metadata": {
    "collapsed": false
   },
   "outputs": [],
   "source": [
    "# Reshape creates a new array\n",
    "print(\"A.reshape((3,3)) =\\n\",A.reshape((3,3)))"
   ]
  },
  {
   "cell_type": "code",
   "execution_count": null,
   "metadata": {
    "collapsed": false
   },
   "outputs": [],
   "source": [
    "# Setting the shape attribute modifies the array in place\n",
    "A.shape = (3,3)\n",
    "print(\"A =\\n\",A)"
   ]
  },
  {
   "cell_type": "code",
   "execution_count": null,
   "metadata": {
    "collapsed": false
   },
   "outputs": [],
   "source": [
    "# NumPy uses row-major storage (same as C)\n",
    "A = np.arange(10)\n",
    "print(\"A =\\n\",A)\n",
    "print(\"A.reshape((2,5)) =\\n\",A.reshape((2,5)))\n",
    "print(\"A.reshape((5,2)) =\\n\",A.reshape((5,2)))"
   ]
  },
  {
   "cell_type": "code",
   "execution_count": null,
   "metadata": {
    "collapsed": false
   },
   "outputs": [],
   "source": [
    "# Use -1 to specify an unknown dimension\n",
    "print(\"A.reshape((2,-1)) =\\n\",A.reshape((2,-1)))"
   ]
  },
  {
   "cell_type": "code",
   "execution_count": null,
   "metadata": {
    "collapsed": false
   },
   "outputs": [],
   "source": [
    "A = np.arange(6).reshape((2,3))\n",
    "print(\"A =\\n\",A)\n",
    "\n",
    "# ravel() flattens arrays\n",
    "print(\"A.ravel() =\\n\",A.ravel())\n",
    "\n",
    "# Transpose takes the transpose\n",
    "# Q: What does transpose do with more than 2 dimension?\n",
    "print(\"A.transpose() =\\n\",A.transpose())"
   ]
  },
  {
   "cell_type": "markdown",
   "metadata": {},
   "source": [
    "#### 1. Use masking to set all negative elements of array A to zero."
   ]
  },
  {
   "cell_type": "code",
   "execution_count": 4,
   "metadata": {
    "collapsed": false
   },
   "outputs": [
    {
     "name": "stdout",
     "output_type": "stream",
     "text": [
      "[[ 0.59314815  0.52482506 -0.26491969 -1.80057876  1.68192695]\n",
      " [-0.04483616  1.01239717  0.57073838 -0.39363821  0.14668595]\n",
      " [-0.67015837  0.79142339  0.33139979  1.21059206 -1.64645284]\n",
      " [ 0.44106153 -1.05179945 -1.74700568  0.25448448  0.03385426]\n",
      " [ 1.20296398 -0.53808319  0.59460194 -0.52277604  0.56586283]]\n",
      "[[ 0.59314815  0.52482506  0.          0.          1.68192695]\n",
      " [ 0.          1.01239717  0.57073838  0.          0.14668595]\n",
      " [ 0.          0.79142339  0.33139979  1.21059206  0.        ]\n",
      " [ 0.44106153  0.          0.          0.25448448  0.03385426]\n",
      " [ 1.20296398  0.          0.59460194  0.          0.56586283]]\n"
     ]
    },
    {
     "data": {
      "text/plain": [
       "array([[False, False,  True,  True, False],\n",
       "       [ True, False, False,  True, False],\n",
       "       [ True, False, False, False,  True],\n",
       "       [False,  True,  True, False, False],\n",
       "       [False,  True, False,  True, False]], dtype=bool)"
      ]
     },
     "execution_count": 4,
     "metadata": {},
     "output_type": "execute_result"
    }
   ],
   "source": [
    "A = np.random.randn(5,5)\n",
    "print(A)\n",
    "index_arr = A < 0\n",
    "A[index_arr] = 0\n",
    "print(A)\n",
    "\n",
    "np.isclose(A,0)"
   ]
  },
  {
   "cell_type": "markdown",
   "metadata": {},
   "source": [
    "### Fancy Indexing"
   ]
  },
  {
   "cell_type": "code",
   "execution_count": null,
   "metadata": {
    "collapsed": false
   },
   "outputs": [],
   "source": [
    "# Using boolean arrays to select slices\n",
    "A = np.arange(10)\n",
    "print(\"A =\\n\",A)\n",
    "B = (A%2) == 0 # True if A_i is even\n",
    "print(\"B =\\n\",B)\n",
    "print(\"A[B] =\\n\",A[B])"
   ]
  },
  {
   "cell_type": "code",
   "execution_count": null,
   "metadata": {
    "collapsed": false
   },
   "outputs": [],
   "source": [
    "# Arrays can also be indexed using integer arrays\n",
    "A = 2*np.arange(10)\n",
    "print(\"A =\\n\",A)\n",
    "B = np.array([1,4,5,7])\n",
    "print(\"A[B] =\\n\",A[B])"
   ]
  },
  {
   "cell_type": "code",
   "execution_count": null,
   "metadata": {
    "collapsed": false
   },
   "outputs": [],
   "source": [
    "# You can specify an array per dimension\n",
    "# Q: What happens if you index with a list of tuples?\n",
    "A = np.arange(6).reshape((2,3))\n",
    "print(\"A =\\n\",A)\n",
    "B = np.array([0,0,1])\n",
    "C = np.array([1,2,2])\n",
    "print(\"A[B,C] =\\n\",A[B,C])"
   ]
  },
  {
   "cell_type": "markdown",
   "metadata": {},
   "source": [
    "#### 2. What happens when you use index assignment and there are duplicate indices?"
   ]
  },
  {
   "cell_type": "code",
   "execution_count": 8,
   "metadata": {
    "collapsed": false
   },
   "outputs": [
    {
     "name": "stdout",
     "output_type": "stream",
     "text": [
      "A =\n",
      " [ 0.  1.  0.  3.  0.]\n",
      "[ 0.  1.  2.  3.  0.]\n"
     ]
    }
   ],
   "source": [
    "# How does += behave in this case?\n",
    "A = np.zeros(5)\n",
    "B = np.array([0,1,2,3])\n",
    "C = np.array([1,1,3,3])\n",
    "A[C] = np.array([0,1,2,3])\n",
    "print(\"A =\\n\",A)\n",
    "\n",
    "for i in range(4):\n",
    "    A[i] = B[i]\n",
    "print(A)"
   ]
  },
  {
   "cell_type": "markdown",
   "metadata": {},
   "source": [
    "### Broadcasting"
   ]
  },
  {
   "cell_type": "code",
   "execution_count": null,
   "metadata": {
    "collapsed": false
   },
   "outputs": [],
   "source": [
    "A = np.arange(6).reshape((2,3))\n",
    "B = np.arange(3)\n",
    "print(\"A =\\n\",A)\n",
    "print(\"B =\\n\",B)\n",
    "print(\"A*B =\\n\",A*B)"
   ]
  },
  {
   "cell_type": "code",
   "execution_count": null,
   "metadata": {
    "collapsed": false
   },
   "outputs": [],
   "source": [
    "# Pad the shape with ones to specify which dimension \n",
    "# to broadcast over\n",
    "A = np.ones((5,5))\n",
    "B = np.arange(5)\n",
    "print(\"A*B.reshape((5,1)) =\\n\",A*B.reshape((5,1)))\n",
    "print(\"A*B.reshape((1,5)) =\\n\",A*B.reshape((1,5)))"
   ]
  },
  {
   "cell_type": "markdown",
   "metadata": {},
   "source": [
    "#### 3. Use broadcasting to calculate the outer product of two one dimensional arrays (i.e. $A ⊗ B = AB^T$ )."
   ]
  },
  {
   "cell_type": "code",
   "execution_count": null,
   "metadata": {
    "collapsed": true
   },
   "outputs": [],
   "source": [
    "A = np.arange(5)\n",
    "B = np.arange(5)*2\n",
    "print(A.reshape((5,1))*B.reshape((1,5)))"
   ]
  },
  {
   "cell_type": "markdown",
   "metadata": {},
   "source": [
    "# Micellaneous NumPy"
   ]
  },
  {
   "cell_type": "markdown",
   "metadata": {},
   "source": [
    "### Reductions"
   ]
  },
  {
   "cell_type": "code",
   "execution_count": null,
   "metadata": {
    "collapsed": false
   },
   "outputs": [],
   "source": [
    "# Reductions apply aggregation operations over \n",
    "# the specified axis\n",
    "# Q: Try the other reductions: \n",
    "# max, min, argmax, argmin, prod, mean, median, std, etc.\n",
    "A = np.ones((2,3))\n",
    "print(\"A.sum(axis=0) =\\n\",A.sum(0))\n",
    "print(\"A.sum(axis=1) =\\n\",A.sum(1))"
   ]
  },
  {
   "cell_type": "markdown",
   "metadata": {},
   "source": [
    "#### 1. What is the difference between A.sum() and A.cumsum()?"
   ]
  },
  {
   "cell_type": "code",
   "execution_count": null,
   "metadata": {
    "collapsed": true
   },
   "outputs": [],
   "source": [
    "A = np.ones((4,5))"
   ]
  },
  {
   "cell_type": "markdown",
   "metadata": {},
   "source": [
    "### Stacking"
   ]
  },
  {
   "cell_type": "code",
   "execution_count": null,
   "metadata": {
    "collapsed": false
   },
   "outputs": [],
   "source": [
    "# Stacking functions\n",
    "# Q: Try the analogous splitting functions: \n",
    "# hsplit, vsplit, etc.\n",
    "A = np.ones((3,4))\n",
    "B = np.ones((3,4))\n",
    "print(\"np.vstack((A,B)).shape =\\n\",np.vstack((A,B)).shape)\n",
    "print(\"np.hstack((A,B)).shape =\\n\",np.hstack((A,B)).shape) \n",
    "print(\"np.stack((A,B)).shape =\\n\",np.stack((A,B)).shape) \n",
    "print(\"np.concatenate((A,B),axis=0).shape =\\n\",np.concatenate((A,B),axis=0).shape) \n",
    "print(\"np.concatenate((A,B),axis=1).shape =\\n\",np.concatenate((A,B),axis=1).shape) "
   ]
  },
  {
   "cell_type": "markdown",
   "metadata": {},
   "source": [
    "### Copying"
   ]
  },
  {
   "cell_type": "code",
   "execution_count": null,
   "metadata": {
    "collapsed": false
   },
   "outputs": [],
   "source": [
    "A = np.ones((3,4))\n",
    "B = A\n",
    "print(\"B is A =\\n\", B is A)\n",
    "C = A.copy() # Create a new copy of 'A' in memory\n",
    "print(\"C is A =\\n\",C is A)"
   ]
  },
  {
   "cell_type": "markdown",
   "metadata": {},
   "source": [
    "#### 2. What does view() do?"
   ]
  },
  {
   "cell_type": "code",
   "execution_count": null,
   "metadata": {
    "collapsed": false
   },
   "outputs": [],
   "source": [
    "A = np.ones((3,4))\n",
    "B = A.view()"
   ]
  },
  {
   "cell_type": "markdown",
   "metadata": {},
   "source": [
    "### File I/O"
   ]
  },
  {
   "cell_type": "code",
   "execution_count": null,
   "metadata": {
    "collapsed": false
   },
   "outputs": [],
   "source": [
    "A = np.arange(25).reshape(5,5)\n",
    "np.save(\"A.npy\",A)\n",
    "B = np.load(\"A.npy\")\n",
    "\n",
    "# The fmt argument allows you to format the ouput\n",
    "# Q: Try different fmt settings.\n",
    "np.savetxt(\"A.csv\",A,fmt=\"%g\",delimiter=',')\n",
    "with open(\"A.csv\",'r') as f:\n",
    "    print(f.read())"
   ]
  },
  {
   "cell_type": "code",
   "execution_count": null,
   "metadata": {
    "collapsed": true
   },
   "outputs": [],
   "source": []
  }
 ],
 "metadata": {
  "kernelspec": {
   "display_name": "Python 3",
   "language": "python",
   "name": "python3"
  },
  "language_info": {
   "codemirror_mode": {
    "name": "ipython",
    "version": 3
   },
   "file_extension": ".py",
   "mimetype": "text/x-python",
   "name": "python",
   "nbconvert_exporter": "python",
   "pygments_lexer": "ipython3",
   "version": "3.5.2"
  }
 },
 "nbformat": 4,
 "nbformat_minor": 0
}
