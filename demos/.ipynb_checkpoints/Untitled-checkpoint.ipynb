{
 "cells": [
  {
   "cell_type": "code",
   "execution_count": 18,
   "metadata": {
    "collapsed": false
   },
   "outputs": [
    {
     "ename": "SyntaxError",
     "evalue": "unexpected EOF while parsing (<ipython-input-18-3dd82044a86e>, line 11)",
     "output_type": "error",
     "traceback": [
      "\u001b[0;36m  File \u001b[0;32m\"<ipython-input-18-3dd82044a86e>\"\u001b[0;36m, line \u001b[0;32m11\u001b[0m\n\u001b[0;31m    print(np.isclose(np.roots([1e-8,10.0,1e-8]), quadratic_formula(1e-8,10.0,1e-8))\u001b[0m\n\u001b[0m                                                                                   ^\u001b[0m\n\u001b[0;31mSyntaxError\u001b[0m\u001b[0;31m:\u001b[0m unexpected EOF while parsing\n"
     ]
    }
   ],
   "source": [
    "import numpy as np\n",
    "\n",
    "def quadratic_formula(a,b,c):\n",
    "    base = np.sqrt(b**2 - 4.0*a*c)\n",
    "    return sorted((-b + np.array([base,-base]))/(2*a))\n",
    "\n",
    "print(np.roots([1.0,7.0,12.0]), quadratic_formula(1.0,7.0,12.0))\n",
    "print(np.roots([-3.0,5.0,2.0]), quadratic_formula(-3.0,5.0,2.0))\n",
    "print(np.roots([4.0,5.0,4.0]))\n",
    "print(np.roots([1.5,7.2,0.0]), quadratic_formula(1.5,7.2,0.0))\n",
    "print(np.isclose(np.roots([1e-8,10.0,1e-8]), quadratic_formula(1e-8,10.0,1e-8)))"
   ]
  },
  {
   "cell_type": "code",
   "execution_count": 16,
   "metadata": {
    "collapsed": false
   },
   "outputs": [
    {
     "data": {
      "text/plain": [
       "[-4, -3]"
      ]
     },
     "execution_count": 16,
     "metadata": {},
     "output_type": "execute_result"
    }
   ],
   "source": [
    "sorted([-4,-3])"
   ]
  },
  {
   "cell_type": "code",
   "execution_count": null,
   "metadata": {
    "collapsed": true
   },
   "outputs": [],
   "source": []
  }
 ],
 "metadata": {
  "kernelspec": {
   "display_name": "Python 3",
   "language": "python",
   "name": "python3"
  },
  "language_info": {
   "codemirror_mode": {
    "name": "ipython",
    "version": 3
   },
   "file_extension": ".py",
   "mimetype": "text/x-python",
   "name": "python",
   "nbconvert_exporter": "python",
   "pygments_lexer": "ipython3",
   "version": "3.5.2"
  }
 },
 "nbformat": 4,
 "nbformat_minor": 0
}
