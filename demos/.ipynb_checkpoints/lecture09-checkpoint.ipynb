{
 "cells": [
  {
   "cell_type": "markdown",
   "metadata": {},
   "source": [
    "# Sparse Matrices"
   ]
  },
  {
   "cell_type": "code",
   "execution_count": 3,
   "metadata": {
    "collapsed": true
   },
   "outputs": [],
   "source": [
    "import numpy as np\n",
    "import scipy.sparse as sps\n",
    "\n",
    "rows = [0,1,1,0,4,3]\n",
    "cols = [4,2,2,0,1,1]\n",
    "data = [9,4,5,1,2,2]"
   ]
  },
  {
   "cell_type": "code",
   "execution_count": 8,
   "metadata": {
    "collapsed": false
   },
   "outputs": [
    {
     "name": "stdout",
     "output_type": "stream",
     "text": [
      "dok =\n",
      "   (1, 2)\t5.0\n",
      "  (0, 0)\t1.0\n",
      "  (4, 1)\t2.0\n",
      "  (3, 1)\t2.0\n",
      "  (0, 4)\t9.0\n"
     ]
    }
   ],
   "source": [
    "# Build a DOK matrix\n",
    "# Initialize with the shape\n",
    "dok = sps.dok_matrix((5,5),dtype=float)\n",
    "for r,c,v in zip(rows,cols,data):\n",
    "    dok[r,c] = v\n",
    "    \n",
    "print(\"dok =\\n\",dok)"
   ]
  },
  {
   "cell_type": "code",
   "execution_count": 7,
   "metadata": {
    "collapsed": false
   },
   "outputs": [
    {
     "name": "stdout",
     "output_type": "stream",
     "text": [
      "coo =\n",
      "   (0, 4)\t9.0\n",
      "  (1, 2)\t4.0\n",
      "  (1, 2)\t5.0\n",
      "  (0, 0)\t1.0\n",
      "  (4, 1)\t2.0\n",
      "  (3, 1)\t2.0\n"
     ]
    }
   ],
   "source": [
    "# If your data is organized into \n",
    "# row/col/value lists, it is easier\n",
    "# to build a COO matrix\n",
    "coo = sps.coo_matrix((data,(rows,cols)),dtype=float)\n",
    "\n",
    "# Q: Notice that the print order is different for \n",
    "#    coo and dok. Why is that the case?\n",
    "#\n",
    "# Q: Notice that index (1,2) appears twice in the coo\n",
    "#    matrix but not the coo matrix. Why is that the case?\n",
    "print(\"coo =\\n\",coo)"
   ]
  },
  {
   "cell_type": "code",
   "execution_count": 12,
   "metadata": {
    "collapsed": false
   },
   "outputs": [
    {
     "name": "stdout",
     "output_type": "stream",
     "text": [
      "csr =\n",
      "   (0, 0)\t1.0\n",
      "  (0, 4)\t9.0\n",
      "  (1, 2)\t9.0\n",
      "  (3, 1)\t2.0\n",
      "  (4, 1)\t2.0\n"
     ]
    }
   ],
   "source": [
    "# Once a sparse dictionary is created in one of the \n",
    "# formats that support efficient modification, it is \n",
    "# easy to convert to one of the formats that support\n",
    "# efficient operations.\n",
    "csr = coo.tocsr()\n",
    "\n",
    "# Q: What does the csr conversion do to the duplicate \n",
    "#    entries in coo?\n",
    "print(\"csr =\\n\",csr)"
   ]
  },
  {
   "cell_type": "markdown",
   "metadata": {},
   "source": [
    "#### 1. What does the .nnz atribute store?"
   ]
  },
  {
   "cell_type": "code",
   "execution_count": 13,
   "metadata": {
    "collapsed": false
   },
   "outputs": [
    {
     "name": "stdout",
     "output_type": "stream",
     "text": [
      "csr.nnz = 5\n"
     ]
    }
   ],
   "source": [
    "print(\"csr.nnz =\",csr.nnz)"
   ]
  },
  {
   "cell_type": "code",
   "execution_count": 16,
   "metadata": {
    "collapsed": false
   },
   "outputs": [
    {
     "name": "stdout",
     "output_type": "stream",
     "text": [
      "csr.todense() =\n",
      " [[ 1.  0.  0.  0.  9.]\n",
      " [ 0.  0.  9.  0.  0.]\n",
      " [ 0.  0.  0.  0.  0.]\n",
      " [ 0.  2.  0.  0.  0.]\n",
      " [ 0.  2.  0.  0.  0.]]\n"
     ]
    }
   ],
   "source": [
    "# Use todense to convert back to a dense \n",
    "# representation.\n",
    "print(\"csr.todense() =\\n\",csr.todense())"
   ]
  },
  {
   "cell_type": "markdown",
   "metadata": {},
   "source": [
    "#### 2. Timing operations"
   ]
  },
  {
   "cell_type": "code",
   "execution_count": null,
   "metadata": {
    "collapsed": true
   },
   "outputs": [],
   "source": [
    "# CSR and CSC matrices have different strengths\n",
    "rows = np.random.randint(0,1000,1000)\n",
    "cols = np.random.randint(0,1000,1000)\n",
    "vals = np.random.randn(1000)\n",
    "\n",
    "%timeit "
   ]
  }
 ],
 "metadata": {
  "kernelspec": {
   "display_name": "Python 3",
   "language": "python",
   "name": "python3"
  },
  "language_info": {
   "codemirror_mode": {
    "name": "ipython",
    "version": 3
   },
   "file_extension": ".py",
   "mimetype": "text/x-python",
   "name": "python",
   "nbconvert_exporter": "python",
   "pygments_lexer": "ipython3",
   "version": "3.5.2"
  }
 },
 "nbformat": 4,
 "nbformat_minor": 0
}
