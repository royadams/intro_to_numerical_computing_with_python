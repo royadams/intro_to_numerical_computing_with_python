{
 "cells": [
  {
   "cell_type": "markdown",
   "metadata": {},
   "source": [
    "# Demo 1: Creating NumPy Arrays"
   ]
  },
  {
   "cell_type": "markdown",
   "metadata": {},
   "source": [
    "## Array Attributes"
   ]
  },
  {
   "cell_type": "code",
   "execution_count": 1,
   "metadata": {
    "collapsed": false
   },
   "outputs": [
    {
     "name": "stdout",
     "output_type": "stream",
     "text": [
      "X=\n",
      " [[1 2]\n",
      " [3 4]\n",
      " [5 6]]\n",
      "type(X)= <class 'numpy.ndarray'>\n"
     ]
    }
   ],
   "source": [
    "import numpy as np\n",
    "X = np.array([[1,2],[3,4],[5,6]])\n",
    "print(\"X=\\n\",X)\n",
    "print(\"type(X)=\",type(X))"
   ]
  },
  {
   "cell_type": "markdown",
   "metadata": {},
   "source": [
    "#### 1. What do the attributes shape, size, ndim, and dtype store?"
   ]
  },
  {
   "cell_type": "code",
   "execution_count": null,
   "metadata": {
    "collapsed": false
   },
   "outputs": [],
   "source": [
    "print(\"X.shape =\", X.shape)\n",
    "print(\"X.size  =\", X.size)\n",
    "print(\"X.ndim  =\", X.ndim)\n",
    "print(\"X.dtype =\", X.dtype)"
   ]
  },
  {
   "cell_type": "markdown",
   "metadata": {},
   "source": [
    "## Creating Arrays"
   ]
  },
  {
   "cell_type": "code",
   "execution_count": null,
   "metadata": {
    "collapsed": false
   },
   "outputs": [],
   "source": [
    "# np.arange works like range() in Python\n",
    "X = np.arange(1,10,2) # start, end, step size\n",
    "print(\"X =\\n\",X)"
   ]
  },
  {
   "cell_type": "code",
   "execution_count": null,
   "metadata": {
    "collapsed": false
   },
   "outputs": [],
   "source": [
    "# np.linspace lets you specicify a number of\n",
    "# points rather than a step size\n",
    "X = np.linspace(1,2,5) # start, end, step size\n",
    "print(\"X =\\n\",X)"
   ]
  },
  {
   "cell_type": "code",
   "execution_count": null,
   "metadata": {
    "collapsed": false
   },
   "outputs": [],
   "source": [
    "# Create arrays filled with ones\n",
    "X = np.ones(5)\n",
    "print(\"X =\\n\",X)"
   ]
  },
  {
   "cell_type": "code",
   "execution_count": null,
   "metadata": {
    "collapsed": false
   },
   "outputs": [],
   "source": [
    "# Create arrays filled with zeros\n",
    "X = np.zeros((3,2))\n",
    "print(\"X =\\n\",X)"
   ]
  },
  {
   "cell_type": "markdown",
   "metadata": {},
   "source": [
    "#### 2. What do the functions np.eye, np.diag, and np.empty create?"
   ]
  },
  {
   "cell_type": "code",
   "execution_count": null,
   "metadata": {
    "collapsed": false
   },
   "outputs": [],
   "source": [
    "X = np.eye(4)\n",
    "print(\"X =\\n\",X)"
   ]
  },
  {
   "cell_type": "code",
   "execution_count": null,
   "metadata": {
    "collapsed": false
   },
   "outputs": [],
   "source": [
    "# Hint: Try running with 1D and 2D inputs\n",
    "X = np.diag(np.arange(1,4))\n",
    "print(\"X =\\n\",X)"
   ]
  },
  {
   "cell_type": "code",
   "execution_count": null,
   "metadata": {
    "collapsed": false
   },
   "outputs": [],
   "source": [
    "# Hint: Run multiple times with different input sizes\n",
    "X = np.empty(10)\n",
    "print(\"X =\\n\",X)"
   ]
  },
  {
   "cell_type": "markdown",
   "metadata": {},
   "source": [
    "## Array data types"
   ]
  },
  {
   "cell_type": "code",
   "execution_count": null,
   "metadata": {
    "collapsed": false
   },
   "outputs": [],
   "source": [
    "# Use the dtype argument to specify a datatype\n",
    "X = np.arange(5,dtype=np.float32)\n",
    "print(\"X =\\n\",X)"
   ]
  },
  {
   "cell_type": "code",
   "execution_count": null,
   "metadata": {
    "collapsed": false
   },
   "outputs": [],
   "source": [
    "X = np.ones((2,3),dtype=np.int16)\n",
    "print(\"X =\\n\",X)"
   ]
  },
  {
   "cell_type": "code",
   "execution_count": null,
   "metadata": {
    "collapsed": false
   },
   "outputs": [],
   "source": [
    "# Numpy supports bools\n",
    "X = np.array([0,1,1,0,1],dtype=bool)\n",
    "print(\"X =\\n\",X)"
   ]
  },
  {
   "cell_type": "code",
   "execution_count": null,
   "metadata": {
    "collapsed": false
   },
   "outputs": [],
   "source": [
    "# As well as strings.\n",
    "# What happens to the dtype if you add a longer string?\n",
    "X = np.array([\"this\",\"is\",\"a\",\"string\",\"array\"])\n",
    "print(\"X =\\n\",X)\n",
    "print(\"X.dtype =\\n\",X.dtype)"
   ]
  },
  {
   "cell_type": "markdown",
   "metadata": {},
   "source": [
    "#### 3. What is the default number of bits used for numpy ints and floats?"
   ]
  },
  {
   "cell_type": "code",
   "execution_count": null,
   "metadata": {
    "collapsed": true
   },
   "outputs": [],
   "source": [
    "# Hint: np.arange defaults to ints and np.ones defaults to floats."
   ]
  },
  {
   "cell_type": "markdown",
   "metadata": {},
   "source": [
    "# Demo 2: Basic operations and indexing"
   ]
  },
  {
   "cell_type": "markdown",
   "metadata": {},
   "source": [
    "## Arithmetic"
   ]
  },
  {
   "cell_type": "code",
   "execution_count": null,
   "metadata": {
    "collapsed": false
   },
   "outputs": [],
   "source": [
    "# Arithmetic\n",
    "X = np.ones(5)\n",
    "print(\"X + 2 =\\n\",X+2)\n",
    "print(\"X - 2 =\\n\",X-2)\n",
    "print(\"X * 2 =\\n\",X*2)\n",
    "print(\"X / 2 =\\n\",X/2)"
   ]
  },
  {
   "cell_type": "code",
   "execution_count": null,
   "metadata": {
    "collapsed": false
   },
   "outputs": [],
   "source": [
    "# Arithmetic\n",
    "X = np.ones(5)\n",
    "Y = np.arange(1,6)\n",
    "print(\"X + Y =\\n\",X+Y)\n",
    "print(\"X - Y =\\n\",X-Y)\n",
    "print(\"X * Y =\\n\",X*Y)\n",
    "print(\"X / Y =\\n\",X/Y)"
   ]
  },
  {
   "cell_type": "markdown",
   "metadata": {},
   "source": [
    "#### 1. Create the array $a_j = 2^{3j} - j,\\,\\, j = 1,...,10$"
   ]
  },
  {
   "cell_type": "code",
   "execution_count": null,
   "metadata": {
    "collapsed": true
   },
   "outputs": [],
   "source": []
  },
  {
   "cell_type": "markdown",
   "metadata": {},
   "source": [
    "## Logic"
   ]
  },
  {
   "cell_type": "code",
   "execution_count": null,
   "metadata": {
    "collapsed": false
   },
   "outputs": [],
   "source": [
    "# Logic\n",
    "X = np.array([1,0,5,4,0])\n",
    "Y = np.arange(1,6)\n",
    "print(\"Y is even =\\n\",(Y%2)==0)\n",
    "print(\"X == Y =\\n\",X == Y)"
   ]
  },
  {
   "cell_type": "markdown",
   "metadata": {},
   "source": [
    "#### 2. What the the functions np.all and np.any do?"
   ]
  },
  {
   "cell_type": "code",
   "execution_count": null,
   "metadata": {
    "collapsed": true
   },
   "outputs": [],
   "source": []
  },
  {
   "cell_type": "markdown",
   "metadata": {},
   "source": [
    "## Indexing and Slicing"
   ]
  },
  {
   "cell_type": "code",
   "execution_count": null,
   "metadata": {
    "collapsed": false
   },
   "outputs": [],
   "source": [
    "# Basic indexing\n",
    "X = np.arange(10)\n",
    "print(\"X[1:9] =\\n\",X[1:9])\n",
    "print(\"X[1:9:2] =\\n\",X[1:9:2])\n",
    "print(\"X[::-1] =\\n\",X[::-1]) # Start/end may be ommitted"
   ]
  },
  {
   "cell_type": "code",
   "execution_count": null,
   "metadata": {
    "collapsed": false
   },
   "outputs": [],
   "source": [
    "# Array Slicing\n",
    "X = np.diag(np.arange(5))\n",
    "print(\"X =\\n\",X)\n",
    "print(\"X[1] =\\n\",X[1])\n",
    "print(\"X[:,4] =\\n\",X[:,4])"
   ]
  },
  {
   "cell_type": "code",
   "execution_count": null,
   "metadata": {
    "collapsed": false
   },
   "outputs": [],
   "source": [
    "# Array Assignment\n",
    "X = np.diag(np.arange(5))\n",
    "X[3:,3:] = 99 # modify submatrix\n",
    "print(\"X =\\n\", X)"
   ]
  },
  {
   "cell_type": "code",
   "execution_count": null,
   "metadata": {
    "collapsed": false
   },
   "outputs": [],
   "source": [
    "# The data type of an array is fixed\n",
    "X = np.array([\"this\",\"is\",\"a\",\"string\"])\n",
    "print(\"X =\\n\",X)\n",
    "print(\"X.dtype =\\n\",X.dtype)\n",
    "X[0] = \"long string\"\n",
    "print(\"X =\\n\",X)"
   ]
  },
  {
   "cell_type": "markdown",
   "metadata": {},
   "source": [
    "#### 3. How do you get B from A?"
   ]
  },
  {
   "cell_type": "code",
   "execution_count": null,
   "metadata": {
    "collapsed": false
   },
   "outputs": [],
   "source": [
    "A = np.arange(25).reshape((5,5)) + 1\n",
    "print(\"A =\\n\",A)"
   ]
  },
  {
   "cell_type": "code",
   "execution_count": null,
   "metadata": {
    "collapsed": true
   },
   "outputs": [],
   "source": []
  },
  {
   "cell_type": "markdown",
   "metadata": {},
   "source": [
    "# Speed"
   ]
  },
  {
   "cell_type": "code",
   "execution_count": null,
   "metadata": {
    "collapsed": false
   },
   "outputs": [],
   "source": [
    "print(\"Using loops:\")\n",
    "%time a = [3*i for i in range(100000)]\n",
    "print(\"\\n\")\n",
    "\n",
    "print(\"Using NumPy:\")\n",
    "%time a = 3*np.arange(100000)\n",
    "print(\"\\n\")"
   ]
  },
  {
   "cell_type": "code",
   "execution_count": 11,
   "metadata": {
    "collapsed": false
   },
   "outputs": [
    {
     "name": "stdout",
     "output_type": "stream",
     "text": [
      "Addition:\n",
      "10 loops, best of 3: 2.79 ms per loop\n",
      "\n",
      "\n",
      "Multiplication:\n",
      "10 loops, best of 3: 2.76 ms per loop\n",
      "\n",
      "\n",
      "Division:\n",
      "10 loops, best of 3: 8.8 ms per loop\n",
      "\n",
      "\n",
      "Logarithm:\n",
      "10 loops, best of 3: 10 ms per loop\n",
      "\n",
      "\n"
     ]
    }
   ],
   "source": [
    "A = np.arange(1,1000000)\n",
    "\n",
    "print(\"Addition:\")\n",
    "%timeit -n 10 a = 3 + A\n",
    "print(\"\\n\")\n",
    "\n",
    "\n",
    "print(\"Multiplication:\")\n",
    "%timeit -n 10 a = 3*A\n",
    "print(\"\\n\")\n",
    "\n",
    "\n",
    "print(\"Division:\")\n",
    "%timeit -n 10 a = A/3\n",
    "print(\"\\n\")\n",
    "\n",
    "\n",
    "print(\"Logarithm:\")\n",
    "%timeit -n 10 a = np.log(A)\n",
    "print(\"\\n\")"
   ]
  },
  {
   "cell_type": "code",
   "execution_count": null,
   "metadata": {
    "collapsed": true
   },
   "outputs": [],
   "source": []
  }
 ],
 "metadata": {
  "kernelspec": {
   "display_name": "Python 3",
   "language": "python",
   "name": "python3"
  },
  "language_info": {
   "codemirror_mode": {
    "name": "ipython",
    "version": 3
   },
   "file_extension": ".py",
   "mimetype": "text/x-python",
   "name": "python",
   "nbconvert_exporter": "python",
   "pygments_lexer": "ipython3",
   "version": "3.5.2"
  }
 },
 "nbformat": 4,
 "nbformat_minor": 0
}
