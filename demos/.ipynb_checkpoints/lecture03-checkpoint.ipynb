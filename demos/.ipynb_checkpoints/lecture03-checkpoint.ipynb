{
 "cells": [
  {
   "cell_type": "markdown",
   "metadata": {},
   "source": [
    "# Scoping"
   ]
  },
  {
   "cell_type": "code",
   "execution_count": 1,
   "metadata": {
    "collapsed": false
   },
   "outputs": [
    {
     "name": "stdout",
     "output_type": "stream",
     "text": [
      "this is a global\n"
     ]
    },
    {
     "ename": "NameError",
     "evalue": "name 'local_variable' is not defined",
     "output_type": "error",
     "traceback": [
      "\u001b[0;31m---------------------------------------------------------------------------\u001b[0m",
      "\u001b[0;31mNameError\u001b[0m                                 Traceback (most recent call last)",
      "\u001b[0;32m<ipython-input-1-82c040b14f62>\u001b[0m in \u001b[0;36m<module>\u001b[0;34m()\u001b[0m\n\u001b[1;32m      7\u001b[0m \u001b[0;34m\u001b[0m\u001b[0m\n\u001b[1;32m      8\u001b[0m \u001b[0mmy_fun\u001b[0m\u001b[0;34m(\u001b[0m\u001b[0;36m1\u001b[0m\u001b[0;34m)\u001b[0m\u001b[0;34m\u001b[0m\u001b[0m\n\u001b[0;32m----> 9\u001b[0;31m \u001b[0mprint\u001b[0m\u001b[0;34m(\u001b[0m\u001b[0mlocal_variable\u001b[0m\u001b[0;34m)\u001b[0m\u001b[0;34m\u001b[0m\u001b[0m\n\u001b[0m",
      "\u001b[0;31mNameError\u001b[0m: name 'local_variable' is not defined"
     ]
    }
   ],
   "source": [
    "global_variable = \"this is a global\"\n",
    "\n",
    "def my_fun(x):\n",
    "    local_variable = \"this is a local\"\n",
    "    print(global_variable)\n",
    "    return\n",
    "\n",
    "my_fun(1)\n",
    "print(local_variable)"
   ]
  },
  {
   "cell_type": "markdown",
   "metadata": {},
   "source": [
    "# Importing Modules"
   ]
  },
  {
   "cell_type": "code",
   "execution_count": 13,
   "metadata": {
    "collapsed": false
   },
   "outputs": [
    {
     "name": "stdout",
     "output_type": "stream",
     "text": [
      "1.6094379124341003\n"
     ]
    }
   ],
   "source": [
    "import math\n",
    "print(math.log(5))"
   ]
  },
  {
   "cell_type": "code",
   "execution_count": 15,
   "metadata": {
    "collapsed": false
   },
   "outputs": [
    {
     "name": "stdout",
     "output_type": "stream",
     "text": [
      "1.6094379124341003\n"
     ]
    }
   ],
   "source": [
    "import math as m\n",
    "print(m.log(5))"
   ]
  },
  {
   "cell_type": "code",
   "execution_count": 16,
   "metadata": {
    "collapsed": false
   },
   "outputs": [
    {
     "name": "stdout",
     "output_type": "stream",
     "text": [
      "1.6094379124341003\n"
     ]
    }
   ],
   "source": [
    "from math import log\n",
    "print(log(5))"
   ]
  },
  {
   "cell_type": "markdown",
   "metadata": {},
   "source": [
    "# Classes"
   ]
  },
  {
   "cell_type": "code",
   "execution_count": 51,
   "metadata": {
    "collapsed": false
   },
   "outputs": [],
   "source": [
    "import random\n",
    "\n",
    "class Dog:\n",
    "        \n",
    "    def __init__(self,name):\n",
    "        self.name = name\n",
    "        self.tricks = []\n",
    "        \n",
    "    def bark(self):\n",
    "        print(\"%s barks!\"%self.name)\n",
    "        \n",
    "    def teach_trick(self,trick):\n",
    "        self.tricks.append(trick)\n",
    "        \n",
    "    def do_trick(self):\n",
    "        if self.tricks == []:\n",
    "            print(\"%s doesn't know any tricks :(\"%self.name)\n",
    "        else:\n",
    "            trick_idx = random.randint(0,len(self.tricks)-1)\n",
    "            print(\"%s does trick: %s\"%(self.name,self.tricks[trick_idx]))"
   ]
  },
  {
   "cell_type": "code",
   "execution_count": 52,
   "metadata": {
    "collapsed": false
   },
   "outputs": [
    {
     "name": "stdout",
     "output_type": "stream",
     "text": [
      "Kevin barks!\n",
      "Rose barks!\n"
     ]
    }
   ],
   "source": [
    "# Create two Dog instances\n",
    "dog1 = Dog(\"Kevin\")\n",
    "dog2 = Dog(\"Rose\")\n",
    "\n",
    "# Barking dogs\n",
    "dog1.bark()\n",
    "dog2.bark()"
   ]
  },
  {
   "cell_type": "code",
   "execution_count": 49,
   "metadata": {
    "collapsed": false
   },
   "outputs": [
    {
     "name": "stdout",
     "output_type": "stream",
     "text": [
      "Kevin doesn't know any tricks :(\n"
     ]
    }
   ],
   "source": [
    "# Try to get Kevin to do a trick\n",
    "dog1.do_trick()"
   ]
  },
  {
   "cell_type": "code",
   "execution_count": 50,
   "metadata": {
    "collapsed": false
   },
   "outputs": [
    {
     "name": "stdout",
     "output_type": "stream",
     "text": [
      "Kevin does trick: roll over\n",
      "Rose doesn't know any tricks :(\n"
     ]
    }
   ],
   "source": [
    "# Teach kevin some tricks\n",
    "dog1.teach_trick(\"roll over\")\n",
    "dog1.teach_trick(\"play dead\")\n",
    "\n",
    "# Try to get both dogs to do tricks\n",
    "dog1.do_trick()\n",
    "dog2.do_trick()"
   ]
  },
  {
   "cell_type": "markdown",
   "metadata": {},
   "source": [
    "# Functional Programming in Python"
   ]
  },
  {
   "cell_type": "code",
   "execution_count": 2,
   "metadata": {
    "collapsed": false
   },
   "outputs": [
    {
     "name": "stdout",
     "output_type": "stream",
     "text": [
      "list1: [0, 1, 2, 3, 4, 5, 6, 7, 8, 9]\n",
      "list2: [0, 2, 4, 6, 8, 10, 12, 14, 16, 18]\n"
     ]
    }
   ],
   "source": [
    "list1 = list(range(10))\n",
    "\n",
    "# List Comprehension\n",
    "list2 = [2*i for i in list1]\n",
    "\n",
    "print(\"list1:\",list1)\n",
    "print(\"list2:\",list2)"
   ]
  },
  {
   "cell_type": "code",
   "execution_count": 4,
   "metadata": {
    "collapsed": false
   },
   "outputs": [
    {
     "name": "stdout",
     "output_type": "stream",
     "text": [
      "list3: [0, 2, 4, 6, 8, 10, 12, 14, 16, 18]\n"
     ]
    }
   ],
   "source": [
    "# Map\n",
    "def double(x): return 2*x\n",
    "\n",
    "list3 = list(map(double, list1))\n",
    "print(\"list3:\",list3)"
   ]
  },
  {
   "cell_type": "code",
   "execution_count": null,
   "metadata": {
    "collapsed": true
   },
   "outputs": [],
   "source": []
  },
  {
   "cell_type": "markdown",
   "metadata": {},
   "source": [
    "# Rounding"
   ]
  },
  {
   "cell_type": "markdown",
   "metadata": {},
   "source": [
    "### Underflow"
   ]
  },
  {
   "cell_type": "code",
   "execution_count": 20,
   "metadata": {
    "collapsed": false
   },
   "outputs": [
    {
     "name": "stdout",
     "output_type": "stream",
     "text": [
      "i = 1075\n",
      "a = 0.0\n"
     ]
    }
   ],
   "source": [
    "a = 1.0\n",
    "i = 0\n",
    "while a > 0.0:\n",
    "    a = a / 2.0\n",
    "    i += 1\n",
    "    \n",
    "print(\"i =\",i)\n",
    "print(\"a =\",a)"
   ]
  },
  {
   "cell_type": "markdown",
   "metadata": {},
   "source": [
    "### Overflow"
   ]
  },
  {
   "cell_type": "code",
   "execution_count": 21,
   "metadata": {
    "collapsed": false
   },
   "outputs": [
    {
     "name": "stdout",
     "output_type": "stream",
     "text": [
      "i = 1024\n",
      "a = inf\n"
     ]
    }
   ],
   "source": [
    "a = 1.0\n",
    "b = 0.5\n",
    "i = 0\n",
    "while b == a/2.0:\n",
    "    b = a\n",
    "    a = a * 2\n",
    "    i += 1\n",
    "    \n",
    "print(\"i =\",i)\n",
    "print(\"a =\",a)"
   ]
  },
  {
   "cell_type": "markdown",
   "metadata": {},
   "source": [
    "### Representability"
   ]
  },
  {
   "cell_type": "code",
   "execution_count": 9,
   "metadata": {
    "collapsed": false
   },
   "outputs": [
    {
     "name": "stdout",
     "output_type": "stream",
     "text": [
      "a = 0.10000000000000001\n",
      "a = 0.20000000000000001\n",
      "a = 0.30000000000000004\n",
      "a = 0.40000000000000002\n",
      "a = 0.5\n",
      "a = 0.59999999999999998\n",
      "a = 0.69999999999999996\n",
      "a = 0.79999999999999993\n",
      "a = 0.89999999999999991\n",
      "a = 0.99999999999999989\n",
      "a = 1.0999999999999999\n"
     ]
    }
   ],
   "source": [
    "a = 0.0\n",
    "while (a != 1.0) and (a < 5):\n",
    "    a += 0.1\n",
    "    print(\"a = %.17g\"%a)"
   ]
  },
  {
   "cell_type": "code",
   "execution_count": 2,
   "metadata": {
    "collapsed": false
   },
   "outputs": [
    {
     "name": "stdout",
     "output_type": "stream",
     "text": [
      "b = 0.10000000000000001\n",
      "b = 0.20000000000000001\n",
      "b = 0.30000000000000004\n",
      "b = 0.40000000000000002\n",
      "b = 0.5\n",
      "b = 0.60000000000000009\n",
      "b = 0.70000000000000007\n",
      "b = 0.80000000000000004\n",
      "b = 0.90000000000000002\n",
      "b = 1\n"
     ]
    }
   ],
   "source": [
    "for i in range(1,11):\n",
    "    b = i*0.1\n",
    "    print(\"b = %.17g\"%b)"
   ]
  },
  {
   "cell_type": "code",
   "execution_count": 54,
   "metadata": {
    "collapsed": false
   },
   "outputs": [
    {
     "name": "stdout",
     "output_type": "stream",
     "text": [
      "a == 1: False\n",
      "isclose(a,1): True\n"
     ]
    }
   ],
   "source": [
    "# tests whether the abolute difference between\n",
    "# two numbers, x and y, is less than some \n",
    "# tolerance, epsilon.\n",
    "def isclose(x,y,epsilon=10e-8):\n",
    "    return abs(x-y) < epsilon\n",
    "\n",
    "a = 0.0\n",
    "for i in range(10): a += 0.1\n",
    "    \n",
    "print(\"a == 1:\",a==1.0)\n",
    "print(\"isclose(a,1):\",isclose(a,1.0))"
   ]
  },
  {
   "cell_type": "code",
   "execution_count": 58,
   "metadata": {
    "collapsed": false
   },
   "outputs": [
    {
     "ename": "OverflowError",
     "evalue": "math range error",
     "output_type": "error",
     "traceback": [
      "\u001b[0;31m---------------------------------------------------------------------------\u001b[0m",
      "\u001b[0;31mOverflowError\u001b[0m                             Traceback (most recent call last)",
      "\u001b[0;32m<ipython-input-58-43d2a58bc921>\u001b[0m in \u001b[0;36m<module>\u001b[0;34m()\u001b[0m\n\u001b[1;32m      1\u001b[0m \u001b[0;32mfrom\u001b[0m \u001b[0mmath\u001b[0m \u001b[0;32mimport\u001b[0m \u001b[0mlog\u001b[0m\u001b[0;34m,\u001b[0m\u001b[0mexp\u001b[0m\u001b[0;34m\u001b[0m\u001b[0m\n\u001b[0;32m----> 2\u001b[0;31m \u001b[0mx\u001b[0m \u001b[0;34m=\u001b[0m \u001b[0mlog\u001b[0m\u001b[0;34m(\u001b[0m\u001b[0mexp\u001b[0m\u001b[0;34m(\u001b[0m\u001b[0;36m800\u001b[0m\u001b[0;34m)\u001b[0m\u001b[0;34m)\u001b[0m\u001b[0;34m\u001b[0m\u001b[0m\n\u001b[0m\u001b[1;32m      3\u001b[0m \u001b[0mprint\u001b[0m\u001b[0;34m(\u001b[0m\u001b[0mx\u001b[0m \u001b[0;34m==\u001b[0m \u001b[0;36m800\u001b[0m\u001b[0;34m)\u001b[0m\u001b[0;34m\u001b[0m\u001b[0m\n",
      "\u001b[0;31mOverflowError\u001b[0m: math range error"
     ]
    }
   ],
   "source": [
    "from math import log,exp\n",
    "x = log(exp(800))\n",
    "print(x == 800)"
   ]
  },
  {
   "cell_type": "code",
   "execution_count": 59,
   "metadata": {
    "collapsed": false
   },
   "outputs": [
    {
     "name": "stdout",
     "output_type": "stream",
     "text": [
      "False\n"
     ]
    }
   ],
   "source": [
    "x = 6.0*0.1\n",
    "y = 0.6\n",
    "print(x == 5)"
   ]
  },
  {
   "cell_type": "code",
   "execution_count": 62,
   "metadata": {
    "collapsed": false
   },
   "outputs": [
    {
     "name": "stdout",
     "output_type": "stream",
     "text": [
      "True\n"
     ]
    }
   ],
   "source": [
    "from math import log,exp\n",
    "x = log(exp(-800))\n",
    "print(x == -800)"
   ]
  },
  {
   "cell_type": "code",
   "execution_count": null,
   "metadata": {
    "collapsed": true
   },
   "outputs": [],
   "source": []
  }
 ],
 "metadata": {
  "kernelspec": {
   "display_name": "Python 3",
   "language": "python",
   "name": "python3"
  },
  "language_info": {
   "codemirror_mode": {
    "name": "ipython",
    "version": 3
   },
   "file_extension": ".py",
   "mimetype": "text/x-python",
   "name": "python",
   "nbconvert_exporter": "python",
   "pygments_lexer": "ipython3",
   "version": "3.5.2"
  }
 },
 "nbformat": 4,
 "nbformat_minor": 0
}
