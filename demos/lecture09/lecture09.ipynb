{
 "cells": [
  {
   "cell_type": "markdown",
   "metadata": {},
   "source": [
    "# Sparse Matrices"
   ]
  },
  {
   "cell_type": "code",
   "execution_count": 2,
   "metadata": {
    "collapsed": true
   },
   "outputs": [],
   "source": [
    "import numpy as np\n",
    "import scipy.sparse as sps\n",
    "\n",
    "rows = [0,1,1,0,4,3]\n",
    "cols = [4,2,2,0,1,1]\n",
    "data = [9,4,5,1,2,2]"
   ]
  },
  {
   "cell_type": "code",
   "execution_count": null,
   "metadata": {
    "collapsed": false
   },
   "outputs": [],
   "source": [
    "# Build a DOK matrix\n",
    "# Initialize with the shape\n",
    "dok = sps.dok_matrix((5,5),dtype=float)\n",
    "for r,c,v in zip(rows,cols,data):\n",
    "    dok[r,c] = v\n",
    "    \n",
    "print(\"dok =\\n\",dok)"
   ]
  },
  {
   "cell_type": "code",
   "execution_count": null,
   "metadata": {
    "collapsed": false
   },
   "outputs": [],
   "source": [
    "# If your data is organized into \n",
    "# row/col/value lists, it is easier\n",
    "# to build a COO matrix\n",
    "coo = sps.coo_matrix((data,(rows,cols)),dtype=float)\n",
    "\n",
    "# Q: Notice that the print order is different for \n",
    "#    coo and dok. Why is that the case?\n",
    "#\n",
    "# Q: Notice that index (1,2) appears twice in the coo\n",
    "#    matrix but not the dok matrix. Why is that the case?\n",
    "print(\"coo =\\n\",coo)"
   ]
  },
  {
   "cell_type": "code",
   "execution_count": null,
   "metadata": {
    "collapsed": false
   },
   "outputs": [],
   "source": [
    "# Once a sparse dictionary is created in one of the \n",
    "# formats that support efficient modification, it is \n",
    "# easy to convert to one of the formats that support\n",
    "# efficient operations.\n",
    "csr = coo.tocsr()\n",
    "\n",
    "# Q: What does the csr conversion do to the duplicate \n",
    "#    entries in coo?\n",
    "print(\"csr =\\n\",csr)"
   ]
  },
  {
   "cell_type": "markdown",
   "metadata": {},
   "source": [
    "#### 1. What does the .nnz atribute store?"
   ]
  },
  {
   "cell_type": "code",
   "execution_count": null,
   "metadata": {
    "collapsed": false
   },
   "outputs": [],
   "source": [
    "print(\"csr.nnz =\",csr.nnz)"
   ]
  },
  {
   "cell_type": "code",
   "execution_count": null,
   "metadata": {
    "collapsed": false
   },
   "outputs": [],
   "source": [
    "# Use todense to convert back to a dense \n",
    "# representation.\n",
    "print(\"csr.todense() =\\n\",csr.todense())"
   ]
  },
  {
   "cell_type": "markdown",
   "metadata": {},
   "source": [
    "#### 2. Timing operations"
   ]
  },
  {
   "cell_type": "code",
   "execution_count": 10,
   "metadata": {
    "collapsed": true
   },
   "outputs": [],
   "source": [
    "# Build two sparse representations and\n",
    "# a dense representation.\n",
    "rows = np.random.randint(0,1000,1000)\n",
    "cols = np.random.randint(0,1000,1000)\n",
    "vals = np.random.randn(1000)\n",
    "csr = sps.coo_matrix((vals,(rows,cols))).tocsr()\n",
    "csc = sps.coo_matrix((vals,(rows,cols))).tocsc()\n",
    "dense = csr.todense()"
   ]
  },
  {
   "cell_type": "code",
   "execution_count": 11,
   "metadata": {
    "collapsed": false
   },
   "outputs": [
    {
     "name": "stdout",
     "output_type": "stream",
     "text": [
      "Sparsity =\n"
     ]
    }
   ],
   "source": [
    "# Q: What is the sparsity (% zero entries)?\n",
    "print(\"Sparsity =\",)"
   ]
  },
  {
   "cell_type": "code",
   "execution_count": 12,
   "metadata": {
    "collapsed": false
   },
   "outputs": [
    {
     "name": "stdout",
     "output_type": "stream",
     "text": [
      "CSR row slicing:\n",
      "1000 loops, best of 3: 496 µs per loop\n",
      "CSC row slicing:\n",
      "1000 loops, best of 3: 347 µs per loop\n"
     ]
    }
   ],
   "source": [
    "# CSR and CSC formats have different strengths\n",
    "print(\"CSR row slicing:\")\n",
    "%timeit -n 1000 csr[100,:]\n",
    "\n",
    "print(\"CSC row slicing:\")\n",
    "%timeit -n 1000 csc[100,:]"
   ]
  },
  {
   "cell_type": "code",
   "execution_count": 13,
   "metadata": {
    "collapsed": false
   },
   "outputs": [
    {
     "name": "stdout",
     "output_type": "stream",
     "text": [
      "CSR max:\n",
      "The slowest run took 8.33 times longer than the fastest. This could mean that an intermediate result is being cached.\n",
      "100 loops, best of 3: 78.9 µs per loop\n",
      "CSC max:\n",
      "100 loops, best of 3: 23 µs per loop\n",
      "Dense max:\n",
      "10 loops, best of 3: 3.35 ms per loop\n"
     ]
    }
   ],
   "source": [
    "# Reductions\n",
    "print(\"CSR max:\")\n",
    "%timeit -n 100 csr.max()\n",
    "\n",
    "print(\"CSC max:\")\n",
    "%timeit -n 100 csc.max()\n",
    "\n",
    "print(\"Dense max:\")\n",
    "%timeit -n 10 dense.max()"
   ]
  },
  {
   "cell_type": "code",
   "execution_count": 14,
   "metadata": {
    "collapsed": false
   },
   "outputs": [
    {
     "name": "stdout",
     "output_type": "stream",
     "text": [
      "CSR matrix multiplication:\n",
      "The slowest run took 7.39 times longer than the fastest. This could mean that an intermediate result is being cached.\n",
      "100 loops, best of 3: 341 µs per loop\n",
      "CSC matrix multiplication:\n",
      "100 loops, best of 3: 333 µs per loop\n",
      "Dense matrix multiplication:\n",
      "10 loops, best of 3: 120 ms per loop\n"
     ]
    }
   ],
   "source": [
    "# Matrix multiplication\n",
    "print(\"CSR matrix multiplication:\")\n",
    "%timeit -n 100 csr.dot(csr)\n",
    "\n",
    "print(\"CSC matrix multiplication:\")\n",
    "%timeit -n 100 csc.dot(csc)\n",
    "\n",
    "print(\"Dense matrix multiplication:\")\n",
    "%timeit -n 10 dense.dot(dense)"
   ]
  },
  {
   "cell_type": "code",
   "execution_count": 15,
   "metadata": {
    "collapsed": false
   },
   "outputs": [
    {
     "name": "stdout",
     "output_type": "stream",
     "text": [
      "CSR matrix multiplication:\n",
      "10 loops, best of 3: 48.6 ms per loop\n",
      "CSC matrix multiplication:\n",
      "10 loops, best of 3: 26.9 ms per loop\n",
      "Dense matrix multiplication:\n",
      "5 loops, best of 3: 1.65 s per loop\n"
     ]
    }
   ],
   "source": [
    "# SVD\n",
    "from scipy.sparse.linalg import svds\n",
    "\n",
    "print(\"CSR matrix multiplication:\")\n",
    "%timeit -n 10 svds(csr)\n",
    "\n",
    "print(\"CSC matrix multiplication:\")\n",
    "%timeit -n 10 svds(csc)\n",
    "\n",
    "print(\"Dense matrix multiplication:\")\n",
    "%timeit -n 5 np.linalg.svd(dense)"
   ]
  },
  {
   "cell_type": "code",
   "execution_count": null,
   "metadata": {
    "collapsed": true
   },
   "outputs": [],
   "source": []
  }
 ],
 "metadata": {
  "kernelspec": {
   "display_name": "Python 3",
   "language": "python",
   "name": "python3"
  },
  "language_info": {
   "codemirror_mode": {
    "name": "ipython",
    "version": 3
   },
   "file_extension": ".py",
   "mimetype": "text/x-python",
   "name": "python",
   "nbconvert_exporter": "python",
   "pygments_lexer": "ipython3",
   "version": "3.5.2"
  }
 },
 "nbformat": 4,
 "nbformat_minor": 0
}
