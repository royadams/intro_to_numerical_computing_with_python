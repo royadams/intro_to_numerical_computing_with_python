{
 "cells": [
  {
   "cell_type": "markdown",
   "metadata": {},
   "source": [
    "# Numpy Matrix Multiply Complexity"
   ]
  },
  {
   "cell_type": "code",
   "execution_count": 34,
   "metadata": {
    "collapsed": true
   },
   "outputs": [],
   "source": [
    "import numpy as np\n",
    "import time\n",
    "import matplotlib.pyplot as plt\n",
    "%matplotlib inline\n",
    "\n",
    "# Multiply the input matrices n_iters\n",
    "# times and return the best runtime\n",
    "def time_matrix_multiply(A,B,n_iter):\n",
    "    times = []\n",
    "    for i in range(n_iter):\n",
    "        b = time.time()\n",
    "        C = A.dot(B)\n",
    "        times.append(time.time() - b)\n",
    "    return min(times)"
   ]
  },
  {
   "cell_type": "code",
   "execution_count": 35,
   "metadata": {
    "collapsed": false
   },
   "outputs": [
    {
     "name": "stdout",
     "output_type": "stream",
     "text": [
      "3.51471827484e-10\n"
     ]
    },
    {
     "data": {
      "image/png": "[encoded data removed]",
      "text/plain": [
       "<matplotlib.figure.Figure at 0x1031dc358>"
      ]
     },
     "metadata": {},
     "output_type": "display_data"
    }
   ],
   "source": [
    "n_iter = 100\n",
    "sizes = np.arange(10,200,10)\n",
    "runtimes = np.zeros(sizes.shape[0])\n",
    "\n",
    "# Get matrix multiply run times for \n",
    "# all n in sizes\n",
    "for j,n in enumerate(sizes):\n",
    "    A = np.random.randn(n,n)\n",
    "    B = np.random.randn(n,n)\n",
    "    runtimes[j] = time_matrix_multiply(A,B,n_iter)\n",
    "    \n",
    "# Estimate the big-O constant\n",
    "constant = np.mean(runtimes/sizes**2.807)\n",
    "print(constant)\n",
    "    \n",
    "# Plot the runtimes\n",
    "plt.plot(sizes,constant*sizes**3,label=\"$n^3$\")\n",
    "plt.plot(sizes,constant*sizes**2,'--k',label=\"$n^2$\")\n",
    "plt.plot(sizes,constant*sizes**2.807,':k',label=\"Strassen\")\n",
    "plt.plot(sizes,runtimes,label=\"Numpy\")\n",
    "plt.legend(loc=0)\n",
    "plt.show()"
   ]
  },
  {
   "cell_type": "code",
   "execution_count": null,
   "metadata": {
    "collapsed": true
   },
   "outputs": [],
   "source": []
  },
  {
   "cell_type": "code",
   "execution_count": null,
   "metadata": {
    "collapsed": true
   },
   "outputs": [],
   "source": []
  }
 ],
 "metadata": {
  "kernelspec": {
   "display_name": "Python 3",
   "language": "python",
   "name": "python3"
  },
  "language_info": {
   "codemirror_mode": {
    "name": "ipython",
    "version": 3
   },
   "file_extension": ".py",
   "mimetype": "text/x-python",
   "name": "python",
   "nbconvert_exporter": "python",
   "pygments_lexer": "ipython3",
   "version": "3.5.2"
  }
 },
 "nbformat": 4,
 "nbformat_minor": 0
}
